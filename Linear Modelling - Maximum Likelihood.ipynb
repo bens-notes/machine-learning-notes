{
 "cells": [
  {
   "cell_type": "markdown",
   "metadata": {},
   "source": [
    "# Linear Modelling - Maxiumum Likelihood\n",
    "\n",
    "One approach to learning parameters is minimizing the loss function, another method is to incorporate a random variable to denote _noise_, which has considerable advantages over are former approach."
   ]
  },
  {
   "cell_type": "markdown",
   "metadata": {
    "collapsed": true
   },
   "source": [
    "## The Gaussian (normal) distribution\n",
    "\n",
    "A Gaussian distribution is defined over the sample space of all real numbers with the pdf for a random varaible $Y$ as the following:\n",
    "\n",
    "$$\n",
    "p(y \\mid \\mu, \\sigma^2) = \\frac{1}{\\sigma \\sqrt{2 \\pi}} \\exp{\\left\\{ - \\frac{1}{2 \\sigma^2} (y - \\mu)^2 \\right\\}}\n",
    "$$\n",
    "\n",
    "The common shorthand notation is the following:\n",
    "\n",
    "$$\n",
    "p(y \\mid \\mu, \\sigma^2) = \\mathcal{N}(\\mu, \\sigma^2)\n",
    "$$"
   ]
  },
  {
   "cell_type": "code",
   "execution_count": 1,
   "metadata": {},
   "outputs": [
    {
     "data": {
      "image/png": "[encoded data removed]",
      "text/plain": [
       "<matplotlib.figure.Figure at 0x7fe333f37fd0>"
      ]
     },
     "metadata": {},
     "output_type": "display_data"
    }
   ],
   "source": [
    "%matplotlib inline\n",
    "\n",
    "import numpy as np\n",
    "import matplotlib.pyplot as plt\n",
    "from scipy.stats import norm\n",
    "\n",
    "x_axis = np.linspace(-5, 10, 100)\n",
    "\n",
    "plt.plot(x_axis, norm.pdf(x_axis,-2,0.1 ** 0.5), 'r', label=\"$\\mu = -2, \\sigma^2 = 0.1$\")\n",
    "plt.plot(x_axis, norm.pdf(x_axis,0,0.3 ** 0.5), 'g', label=\"$\\mu = 0, \\sigma^2 = 0.3$\")\n",
    "plt.plot(x_axis, norm.pdf(x_axis,5,2 ** 0.5), 'b', label=\"$\\mu = 5, \\sigma^2 = 2$\")\n",
    "plt.legend()\n",
    "plt.show()"
   ]
  },
  {
   "cell_type": "markdown",
   "metadata": {},
   "source": [
    "## Thinking generatively\n",
    "\n",
    "If we think how we could generate mens 100m times that looks like the data we observe we would arive at the following:\n",
    "\n",
    "$$\n",
    "t_n = \\mathbf{w}^T \\mathbf{x}_n + \\epsilon_n\n",
    "$$\n",
    "\n",
    "where $\\epsilon_n$ is a random variable.\n",
    "\n",
    "Now we need to determine the distribution for $\\epsilon_n$. Our model is continous thus $\\epsilon_n$ is must be a continous random varible. Their is a random variable for each Olympic year, and its a resonable assumption that these values are independent.\n",
    "\n",
    "$$\n",
    "p(\\epsilon_1, ..., \\epsilon_n) = \\prod_{n=1}^N p(\\epsilon_n)\n",
    "$$\n",
    "\n",
    "Lets assume $p(\\epsilon_n)$ follows a Gaussian distribution with a zero mean and variance $\\sigma$. Our model can now be described as two components:\n",
    "\n",
    "1. A _deterministic_ component ($\\mathbf{w}^T \\mathbf{x}_n$) referred to as a _trend_ or _drift_\n",
    "2. A random component ($\\epsilon_n$) referred to as _noise_\n",
    "\n",
    "In our case the noise is _additive_ but some applications might call for _mulitiplicative_ noise such as pixel degradation."
   ]
  },
  {
   "cell_type": "markdown",
   "metadata": {},
   "source": [
    "## Likelihood\n",
    "\n",
    "Our model is of the following form:\n",
    "\n",
    "$$\n",
    "t_n = f(x_n; \\mathbf{w}) + \\epsilon_n \\quad \\epsilon_n \\sim \\mathcal{N}(0, \\sigma^2)\n",
    "$$\n",
    "\n",
    "We cant minimize the loss since $t_n$ is no longer a fixed value, its a random variable. Adding a constant ($\\mathbf{w}^T \\mathbf{x}_n$) to a Gausian distributed random variable is equivalent to a new Gausian random variable with the constant added to the mean. Thus $t_n$ has the following pdf:\n",
    "\n",
    "$$\n",
    "p(t_n \\mid \\mathbf{x}_n, \\mathbf{w}, \\sigma^2) = \\mathcal{N}(\\mathbf{w}^T \\mathbf{x}_n, \\sigma^2)\n",
    "$$\n",
    "\n",
    "We can use this to find optimal values for $\\mathbf{w}$ and $\\sigma^2$, consider the year 1980, using the values for $\\mathbf{w}$ we found previously and assuming $\\sigma^2 = 0.05$ we can plot:\n",
    "\n",
    "$$\n",
    "p\\left(t_n \\mid \\mathbf{x}_n = \\begin{bmatrix}1\\\\1980\\end{bmatrix}, \\mathbf{w} = \\begin{bmatrix}36.416\\\\-0.0133\\end{bmatrix}, \\sigma^2 = 0.05 \\right)\n",
    "$$"
   ]
  },
  {
   "cell_type": "code",
   "execution_count": 2,
   "metadata": {},
   "outputs": [
    {
     "name": "stdout",
     "output_type": "stream",
     "text": [
      "mu = 10.021302194800871, sigma^2 = 0.05\n"
     ]
    },
    {
     "data": {
      "image/png": "[encoded data removed]",
      "text/plain": [
       "<matplotlib.figure.Figure at 0x7fe333f379b0>"
      ]
     },
     "metadata": {},
     "output_type": "display_data"
    }
   ],
   "source": [
    "mu = 36.41645590250286 - 0.013330885710960602 * 1980\n",
    "sigma2 = 0.05 \n",
    "\n",
    "print(\"mu = {}, sigma^2 = {}\".format(mu, sigma2))\n",
    "\n",
    "x_axis = np.linspace(9, 11, 50)\n",
    "\n",
    "plt.plot(x_axis, norm.pdf(x_axis, mu, sigma2 ** 0.5), 'r')\n",
    "plt.show()"
   ]
  },
  {
   "cell_type": "markdown",
   "metadata": {},
   "source": [
    "According to the graph the most _likely_ winning time for 1980 is $10.02$ seconds. The actuall time was $10.25$, thus we need to tune the parameters $\\mathbf{w}$ and $\\sigma^2$ to make the density as high as possible at $t = 10.25$."
   ]
  },
  {
   "cell_type": "markdown",
   "metadata": {},
   "source": [
    "## Dataset likelihood\n",
    "\n",
    "We can extend this to the whole dataset by finding the joint conditional density:\n",
    "\n",
    "$$\n",
    "p(t_1, ..., t_N \\mid \\mathbf{x}_1, ..., \\mathbf{x}_N, \\mathbf{w}, \\sigma^2)\n",
    "$$\n",
    "\n",
    "By using the vector notation defined previously and the assumption that the noise at each datapoint is independent, we get the following:\n",
    "\n",
    "$$\n",
    "L = p(\\mathbf{t} \\mid \\mathbf{X}, \\mathbf{w}, \\sigma^2) = \\prod_{n=1}^N p(t_n \\mid \\mathbf{x_n}, \\mathbf{w}, \\sigma^2) = \\prod_{n=1}^N \\mathcal{N}(\\mathbf{w}^T \\mathbf{x}_n, \\sigma^2)\n",
    "$$"
   ]
  },
  {
   "cell_type": "markdown",
   "metadata": {},
   "source": [
    "## Maximum likelihood\n",
    "\n",
    "To find $\\widehat{\\mathbf{w}}$ and $\\widehat{\\sigma^2}$ clearly we need to maximize the value of $L$, to do this we will maximize the log-likelyhood (for analytical reasons)\n",
    "\n",
    "$$\n",
    "\\begin{align}\n",
    "L &= \\prod_{n=1}^N \\mathcal{N}(\\mathbf{w}^T \\mathbf{x}_n, \\sigma^2) \\\\\n",
    "\\log L &= \\log \\left(\\prod_{n=1}^N \\mathcal{N}(\\mathbf{w}^T \\mathbf{x}_n, \\sigma^2) \\right) \\\\\n",
    "&= \\sum_{n=1}^N \\log \\mathcal{N}(\\mathbf{w}^T \\mathbf{x}_n, \\sigma^2) \\\\\n",
    "&= \\sum_{n=1}^N \\log \\left( \\frac{1}{\\sigma \\sqrt{2 \\pi}} \\exp{\\left\\{ - \\frac{1}{2 \\sigma^2} (t_n - \\mathbf{w}^T \\mathbf{x}_n)^2 \\right\\}} \\right) \\\\\n",
    "&= \\sum_{n=1}^N \\left( -\\frac{1}{2} \\log(2 \\pi) - \\log \\sigma - \\frac{1}{2 \\sigma^2} (t_n - \\mathbf{w}^T \\mathbf{x}_n)^2 \\right) \\\\\n",
    "&= -\\frac{N}{2} \\log(2 \\pi) - N \\log \\sigma - \\frac{1}{2 \\sigma^2} \\sum_{n=1}^N (t_n - \\mathbf{w}^T \\mathbf{x}_n)^2 \\\\\n",
    "\\end{align}\n",
    "$$\n",
    "\n",
    "As previosly we differentiate and set to zero to find the turning point, in this case we want a maximum.\n",
    "\n",
    "$$\n",
    "\\begin{align}\n",
    "\\frac{\\partial \\log L}{\\partial \\mathbf{w}} &= \\frac{1}{\\sigma^2} \\sum^N_{n=1} \\mathbf{x}_n(t_n - \\mathbf{x}_n^T \\mathbf{w}) \\\\\n",
    "&= \\frac{1}{\\sigma^2} \\sum^N_{n=1} \\mathbf{x}_n t_n - \\mathbf{x}_n \\mathbf{x}_n^T \\mathbf{w} \\\\\n",
    "\\end{align}\n",
    "$$\n",
    "\n",
    "Using the vector/matix notation from earlier, $\\sum_{n=1}^N \\mathbf{x}_n t_n$ becomes $\\mathbf{X}^T \\mathbf{t}$ and $\\sum_{n=1}^N \\mathbf{x}_n \\mathbf{x}_n^T \\mathbf{w}$ becomes $\\mathbf{X}^T \\mathbf{Xw}$, thus the derivitive becomes:\n",
    "\n",
    "$$\n",
    "\\frac{\\partial \\log L}{\\partial \\mathbf{w}} = \\frac{1}{\\sigma^2} (\\mathbf{X}^T \\mathbf{t} - \\mathbf{X}^t \\mathbf{Xw})\n",
    "$$\n",
    "\n",
    "Setting the derivitive to $\\mathbf{0}$ (a vector with all zeros) and solving for $\\mathbf{w}$ gives us:\n",
    "\n",
    "$$\n",
    "\\begin{align}\n",
    "\\frac{1}{\\sigma^2} (\\mathbf{X}^T \\mathbf{t} - \\mathbf{X}^t \\mathbf{Xw}) &= \\mathbf{0} \\\\\n",
    "\\mathbf{X}^T \\mathbf{t} - \\mathbf{X}^t \\mathbf{Xw} &= \\mathbf{0} \\\\\n",
    "- \\mathbf{X}^t \\mathbf{Xw} &= - \\mathbf{X}^T \\mathbf{t} \\\\\n",
    "\\mathbf{X}^t \\mathbf{Xw} &= \\mathbf{X}^T \\mathbf{t} \\\\\n",
    "\\widehat{\\mathbf{w}} &= (\\mathbf{X}^T \\mathbf{X})^{-1} \\mathbf{X}^T \\mathbf{t} \\\\\n",
    "\\end{align}\n",
    "$$\n",
    "\n",
    "This is the same result as minimizing the squared loss. Minimising the squared loss is equivalent to the maximum likelihood solution if the noise is assumed to be Gaussian.\n",
    "\n",
    "Now we repeat the process for $\\sigma^2$\n",
    "\n",
    "$$\n",
    "\\begin{align}\n",
    "\\frac{\\partial \\log L}{\\partial \\sigma^2} &= - \\frac{N}{\\sigma} + \\frac{1}{\\sigma^3} \\sum_{n=1}^N (t_n - \\mathbf{x}^T \\widehat{\\mathbf{w}})^2\n",
    "\\end{align}\n",
    "$$\n",
    "\n",
    "$$\n",
    "\\begin{align}\n",
    "- \\frac{N}{\\sigma} + \\frac{1}{\\sigma^3} \\sum_{n=1}^N (t_n - \\mathbf{x}^T \\widehat{\\mathbf{w}})^2 &= 0 \\\\ \n",
    "\\frac{1}{\\sigma^3} \\sum_{n=1}^N (t_n - \\mathbf{x}^T \\widehat{\\mathbf{w}})^2 &= \\frac{N}{\\sigma} \\\\\n",
    "\\sum_{n=1}^N (t_n - \\mathbf{x}^T \\widehat{\\mathbf{w}})^2 &= N \\sigma^2 \\\\\n",
    "\\widehat{\\sigma^2} &= \\frac{1}{N} \\sum_{n=1}^N (t_n - \\mathbf{x}^T \\widehat{\\mathbf{w}})^2 \\\\\n",
    "\\end{align}\n",
    "$$\n",
    "\n",
    "This makes sence, the variance is the average square error. We can use the fact that $\\sum_{n=1}^N (t_n - \\mathbf{x}^T \\widehat{\\mathbf{w}})^2$ is equivalent to $(\\mathbf{t} - \\mathbf{X}\\widehat{\\mathbf{w}})^T (\\mathbf{t} - \\mathbf{X}\\widehat{\\mathbf{w}})$\n",
    "\n",
    "$$\n",
    "\\begin{align}\n",
    "\\widehat{\\sigma^2} &= \\frac{1}{N} (\\mathbf{t} - \\mathbf{X}\\widehat{\\mathbf{w}})^T (\\mathbf{t} - \\mathbf{X}\\widehat{\\mathbf{w}}) \\\\\n",
    "&= \\frac{1}{N} (\\mathbf{t}^T \\mathbf{t} - 2 \\mathbf{t}^T \\mathbf{X} \\widehat{\\mathbf{w}} + \\widehat{\\mathbf{w}}^T \\mathbf{X}^T \\mathbf{X} \\widehat{\\mathbf{w}}) \\\\\n",
    "\\end{align}\n",
    "$$\n",
    "\n",
    "Now using $\\widehat{\\mathbf{w}} = (\\mathbf{X}^T \\mathbf{X})^{-1} \\mathbf{X}^T \\mathbf{t}$ and $\\widehat{\\mathbf{w}}^T = \\mathbf{t}^T \\mathbf{X} (\\mathbf{X}^T \\mathbf{X})^{-1}$\n",
    "\n",
    "$$\n",
    "\\begin{align}\n",
    "\\widehat{\\sigma^2} &= \\frac{1}{N} (\\mathbf{t}^T \\mathbf{t} - 2 \\mathbf{t}^T \\mathbf{X} (\\mathbf{X}^T \\mathbf{X})^{-1} \\mathbf{X}^T \\mathbf{t} + \\mathbf{t}^T \\mathbf{X} (\\mathbf{X}^T \\mathbf{X})^{-1} \\mathbf{X}^T \\mathbf{X} (\\mathbf{X}^T \\mathbf{X})^{-1} \\mathbf{X}^T \\mathbf{t}) \\\\\n",
    "&= \\frac{1}{N} (\\mathbf{t}^T \\mathbf{t} - 2 \\mathbf{t}^T \\mathbf{X} (\\mathbf{X}^T \\mathbf{X})^{-1} \\mathbf{X}^T \\mathbf{t} + \\mathbf{t}^T \\mathbf{X} (\\mathbf{X}^T \\mathbf{X})^{-1} \\mathbf{X}^T \\mathbf{t}) \\\\\n",
    "&= \\frac{1}{N} (\\mathbf{t}^T \\mathbf{t} - \\mathbf{t}^T \\mathbf{X} (\\mathbf{X}^T \\mathbf{X})^{-1} \\mathbf{X}^T \\mathbf{t}) \\\\\n",
    "&= \\frac{1}{N} (\\mathbf{t}^T \\mathbf{t} - \\mathbf{t}^T \\mathbf{X} \\widehat{\\mathbf{w}}) \\\\\n",
    "\\end{align}\n",
    "$$"
   ]
  },
  {
   "cell_type": "code",
   "execution_count": 3,
   "metadata": {},
   "outputs": [
    {
     "name": "stdout",
     "output_type": "stream",
     "text": [
      "w = [[  3.64164559e+01]\n",
      " [ -1.33308857e-02]]\n",
      "\n",
      "sigma^2 = [[ 0.05030711]]\n"
     ]
    }
   ],
   "source": [
    "x_values = [1896, 1900, 1904, 1906, 1908, 1912, 1920, 1924, 1928, 1932, 1936, 1948, 1952, 1956, 1960, 1964, \n",
    "     1968, 1972, 1976, 1980, 1984, 1988, 1992, 1996, 2000, 2004, 2008]\n",
    "t_values = [12.00, 11.00, 11.00, 11.20, 10.80, 10.80, 10.80, 10.60, 10.80, 10.30, 10.30, 10.30, 10.40, 10.50, \n",
    "     10.20, 10.00, 9.95, 10.14, 10.06, 10.25, 9.99, 9.92, 9.96, 9.84, 9.87, 9.85, 9.69]\n",
    "\n",
    "N = len(x_values)\n",
    "X = np.matrix([[1,x] for x in x_values])\n",
    "XT = np.transpose(X)\n",
    "tT = np.matrix([t_values])\n",
    "t = np.transpose(tT)\n",
    "\n",
    "best_w = ((XT * X) ** -1) * XT * t\n",
    "best_sigma2 = (1/N) * (tT * t - tT * X * best_w)\n",
    "\n",
    "print(\"w = {}\\n\\nsigma^2 = {}\".format(best_w, best_sigma2))"
   ]
  }
 ],
 "metadata": {
  "kernelspec": {
   "display_name": "Python 3.6",
   "language": "python",
   "name": "python36"
  },
  "language_info": {
   "codemirror_mode": {
    "name": "ipython",
    "version": 3
   },
   "file_extension": ".py",
   "mimetype": "text/x-python",
   "name": "python",
   "nbconvert_exporter": "python",
   "pygments_lexer": "ipython3",
   "version": "3.6.3"
  }
 },
 "nbformat": 4,
 "nbformat_minor": 2
}
